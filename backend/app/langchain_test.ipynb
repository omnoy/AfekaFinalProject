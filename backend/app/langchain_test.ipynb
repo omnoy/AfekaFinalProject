{
 "cells": [
  {
   "cell_type": "markdown",
   "metadata": {},
   "source": [
    "# Imports and Inits"
   ]
  },
  {
   "cell_type": "code",
   "execution_count": 1,
   "metadata": {},
   "outputs": [],
   "source": [
    "import os\n",
    "import sys\n",
    "from dotenv import load_dotenv, find_dotenv\n",
    "from langchain_anthropic import ChatAnthropic\n",
    "from langchain_core.prompts import ChatPromptTemplate"
   ]
  },
  {
   "cell_type": "code",
   "execution_count": 2,
   "metadata": {},
   "outputs": [],
   "source": [
    "module_path = os.path.abspath(os.path.join('..'))\n",
    "if module_path not in sys.path:\n",
    "    sys.path.append(module_path)\n",
    "\n",
    "load_dotenv(find_dotenv())\n",
    "\n",
    "os.environ['ANTHROPIC_API_KEY'] = os.getenv('ANTHROPIC_API_KEY')"
   ]
  },
  {
   "cell_type": "code",
   "execution_count": 3,
   "metadata": {},
   "outputs": [
    {
     "name": "stdout",
     "output_type": "stream",
     "text": [
      "(None, \"\\nמי זה ג'ף הזה שכולם מדברים עליו? 🤔 אני כראש הטסטים חייב לדעת! האם הוא עבר את הטסט? האם הוא מתאים להיות חבר במפלגת הטסט פארטי שלנו? אם מישהו יודע משהו על ג'ף הזה, שיכתוב בתגובות! אנחנו חייבים לבדוק אותו היטב לפני שנחליט אם הוא ראוי להצטרף אלינו או לא. זוכרים - טסט הוא לא משחק ילדים! 💪🚗\\n\")\n"
     ]
    }
   ],
   "source": [
    "from app.generation_model.claude_model import ClaudeModel\n",
    "from app.models.publicofficial import PublicOfficial\n",
    "from app.models.social_media import SocialMedia\n",
    "\n",
    "po_dict = {\n",
    "            \"name_eng\": \"testman\", \n",
    "            \"name_heb\": \"טסטמן\", \n",
    "            \"position\": \"ראש הטסטים\", \n",
    "            \"political_party\": \"טסט פארטי\"\n",
    "        }\n",
    "\n",
    "\n",
    "\n",
    "response = ClaudeModel.generate_post(generation_prompt=\"Make a post about Jeff.\",\n",
    "                                     public_official=PublicOfficial(**po_dict),\n",
    "                                     social_media=SocialMedia(\"facebook\"))\n",
    "print(response)"
   ]
  },
  {
   "cell_type": "code",
   "execution_count": 4,
   "metadata": {},
   "outputs": [
    {
     "name": "stdout",
     "output_type": "stream",
     "text": [
      "(None, \"\\nמי זה ג'ף הזה שכולם מדברים עליו? 🤔 אני כראש הטסטים חייב לדעת! האם הוא עבר את הטסט? האם הוא מתאים להיות חבר במפלגת הטסט פארטי שלנו? אם מישהו יודע משהו על ג'ף הזה, שיכתוב בתגובות! אנחנו חייבים לבדוק אותו היטב לפני שנחליט אם הוא ראוי להצטרף אלינו או לא. זוכרים - טסט הוא לא משחק ילדים! 💪🚗\\n\")\n"
     ]
    }
   ],
   "source": [
    "print(response)"
   ]
  }
 ],
 "metadata": {
  "kernelspec": {
   "display_name": ".venv",
   "language": "python",
   "name": "python3"
  },
  "language_info": {
   "codemirror_mode": {
    "name": "ipython",
    "version": 3
   },
   "file_extension": ".py",
   "mimetype": "text/x-python",
   "name": "python",
   "nbconvert_exporter": "python",
   "pygments_lexer": "ipython3",
   "version": "3.12.0"
  }
 },
 "nbformat": 4,
 "nbformat_minor": 2
}
